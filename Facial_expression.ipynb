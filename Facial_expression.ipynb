{
 "cells": [
  {
   "cell_type": "code",
   "execution_count": 1,
   "metadata": {},
   "outputs": [
    {
     "name": "stderr",
     "output_type": "stream",
     "text": [
      "Using TensorFlow backend.\n"
     ]
    }
   ],
   "source": [
    "import numpy as np\n",
    "import cv2\n",
    "from keras.preprocessing import image\n",
    "import matplotlib.pyplot as plt\n",
    "from keras.models import model_from_json\n",
    "\n",
    "face_cascade = cv2.CascadeClassifier('haarcascade_frontalface_default.xml')\n",
    "\n",
    "\n",
    "model = model_from_json(open(\"facial_expression_model_structure.json\", \"r\").read())\n",
    "#load weights\n",
    "model.load_weights('facial_expression_model_weights.h5') \n",
    "\n",
    "\n",
    "emotions = ('angry', 'disgust', 'fear', 'happy', 'sad', 'surprise', 'neutral')\n",
    "\n",
    "# Read Input Images\n",
    "img = cv2.imread('h.jpg')\n",
    "\n",
    "gray = cv2.cvtColor(img, cv2.COLOR_BGR2GRAY)\n",
    "\n",
    "faces = face_cascade.detectMultiScale(gray, 1.3, 5)\n",
    "\n",
    "\n",
    "for (x,y,w,h) in faces:\n",
    "    #draw rectangle to main image\n",
    "    cv2.rectangle(img,(x,y),(x+w,y+h),(255,0,0),2) \n",
    "    #crop detected faces\n",
    "    detected_face = img[int(y):int(y+h), int(x):int(x+w)] \n",
    "    #transform to gray scale\n",
    "    detected_face = cv2.cvtColor(detected_face, cv2.COLOR_BGR2GRAY)\n",
    "    #resize to 48x48\n",
    "    detected_face = cv2.resize(detected_face, (48, 48)) \n",
    "    img_pixels = image.img_to_array(detected_face)\n",
    "    img_pixels = np.expand_dims(img_pixels, axis = 0)\n",
    "    #normalize all pixels in scale of [0, 1]\n",
    "    img_pixels /= 255 \n",
    "    #store probabilities of 7 expressions\n",
    "    predictions = model.predict(img_pixels) \n",
    "    \n",
    "    #find max indexed array 0: angry, 1:disgust, 2:fear, 3:happy, 4:sad, 5:surprise, 6:neutral\n",
    "    max_index = np.argmax(predictions[0])\n",
    "    \n",
    "    emotion = emotions[max_index]\n",
    "    \n",
    "    #write emotion text above rectangle\n",
    "    cv2.putText(img, emotion, (int(x), int(y)), cv2.FONT_HERSHEY_SIMPLEX, 1, (255,0,255), 2)\n",
    "    \n",
    "    \n",
    "cv2.imshow('img',img)\n",
    "cv2.imwrite('newImage3.jpg',img)\n",
    "cv2.waitKey(1000000)\n",
    "cv2.destroyAllWindows()\n"
   ]
  },
  {
   "cell_type": "code",
   "execution_count": null,
   "metadata": {
    "collapsed": true
   },
   "outputs": [],
   "source": []
  },
  {
   "cell_type": "code",
   "execution_count": null,
   "metadata": {
    "collapsed": true
   },
   "outputs": [],
   "source": []
  },
  {
   "cell_type": "code",
   "execution_count": null,
   "metadata": {
    "collapsed": true
   },
   "outputs": [],
   "source": []
  }
 ],
 "metadata": {
  "kernelspec": {
   "display_name": "Python 3",
   "language": "python",
   "name": "python3"
  },
  "language_info": {
   "codemirror_mode": {
    "name": "ipython",
    "version": 3
   },
   "file_extension": ".py",
   "mimetype": "text/x-python",
   "name": "python",
   "nbconvert_exporter": "python",
   "pygments_lexer": "ipython3",
   "version": "3.6.3"
  }
 },
 "nbformat": 4,
 "nbformat_minor": 2
}
